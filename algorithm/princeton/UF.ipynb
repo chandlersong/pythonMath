{
 "cells": [
  {
   "cell_type": "code",
   "execution_count": 3,
   "metadata": {
    "collapsed": true,
    "pycharm": {
     "is_executing": false
    }
   },
   "outputs": [
    {
     "name": "stdout",
     "text": [
      "The autoreload extension is already loaded. To reload it, use:\n",
      "  %reload_ext autoreload\n"
     ],
     "output_type": "stream"
    }
   ],
   "source": [
    "%load_ext autoreload\n",
    "%autoreload 2\n",
    "\n",
    "from algorithm.princeton.chapter1.uf import UF\n",
    "\n",
    "\n",
    "f = open(\"tinyUF.txt\", \"r\")\n",
    "line = f.readline()\n",
    "n = int(line)\n",
    "uf = UF(n)\n"
   ]
  },
  {
   "cell_type": "code",
   "execution_count": 6,
   "outputs": [
    {
     "data": {
      "text/plain": "'uf count 2'"
     },
     "metadata": {},
     "output_type": "execute_result",
     "execution_count": 6
    }
   ],
   "source": [
    "line = f.readline()\n",
    "def loop_file_return_two_int(line, f):\n",
    "    while line:\n",
    "        str_array = line.split(\" \")\n",
    "        p = int(str_array[0])\n",
    "        q = int(str_array[1])\n",
    "        yield (p, q)\n",
    "        line = f.readline()\n",
    "\n",
    "for p, q in loop_file_return_two_int(line, f):\n",
    "    if uf.connected(p,q):\n",
    "        continue\n",
    "    uf.union(p, q)\n",
    "    \n",
    "\"uf count {}\".format(uf.count)"
   ],
   "metadata": {
    "collapsed": false,
    "pycharm": {
     "name": "#%%\n",
     "is_executing": false
    }
   }
  }
 ],
 "metadata": {
  "kernelspec": {
   "display_name": "Python 3",
   "language": "python",
   "name": "python3"
  },
  "language_info": {
   "codemirror_mode": {
    "name": "ipython",
    "version": 2
   },
   "file_extension": ".py",
   "mimetype": "text/x-python",
   "name": "python",
   "nbconvert_exporter": "python",
   "pygments_lexer": "ipython2",
   "version": "2.7.6"
  },
  "pycharm": {
   "stem_cell": {
    "cell_type": "raw",
    "source": [],
    "metadata": {
     "collapsed": false
    }
   }
  }
 },
 "nbformat": 4,
 "nbformat_minor": 0
}