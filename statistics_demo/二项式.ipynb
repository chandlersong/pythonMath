{
 "cells": [
  {
   "metadata": {},
   "cell_type": "markdown",
   "source": "C(n,k)",
   "id": "b9d843392d9cf236"
  },
  {
   "metadata": {
    "ExecuteTime": {
     "end_time": "2024-04-28T13:30:37.409349Z",
     "start_time": "2024-04-28T13:30:37.403323Z"
    }
   },
   "cell_type": "code",
   "source": [
    "import math\n",
    "\n",
    "n = 5  # 元素总数\n",
    "k = 1  # 选择的元素数\n",
    "\n",
    "math.comb(n, k)"
   ],
   "id": "initial_id",
   "outputs": [
    {
     "data": {
      "text/plain": [
       "5"
      ]
     },
     "execution_count": 21,
     "metadata": {},
     "output_type": "execute_result"
    }
   ],
   "execution_count": 21
  },
  {
   "metadata": {},
   "cell_type": "markdown",
   "source": "P(n,k)",
   "id": "26a09fe6258a6ecb"
  },
  {
   "metadata": {
    "ExecuteTime": {
     "end_time": "2024-04-28T12:45:39.204009Z",
     "start_time": "2024-04-28T12:45:39.200276Z"
    }
   },
   "cell_type": "code",
   "source": [
    "n = 3  # 元素总数\n",
    "k = 2  # 选择的元素数\n",
    "\n",
    "num_permutations = math.perm(n, k)\n",
    "\n",
    "print(num_permutations)"
   ],
   "id": "93328f2539be6ad1",
   "outputs": [
    {
     "name": "stdout",
     "output_type": "stream",
     "text": [
      "6\n"
     ]
    }
   ],
   "execution_count": 4
  },
  {
   "metadata": {},
   "cell_type": "markdown",
   "source": [
    "二项式\n",
    "pmf,可以理解为某件事情发生的概率"
   ],
   "id": "cc4c76652f368fb5"
  },
  {
   "metadata": {
    "ExecuteTime": {
     "end_time": "2024-04-28T13:18:21.564968Z",
     "start_time": "2024-04-28T13:18:21.557657Z"
    }
   },
   "cell_type": "code",
   "source": [
    "from scipy.stats import binom\n",
    "\n",
    "n = 24  # 试验次数\n",
    "p = 0.5  # 事件发生的概率\n",
    "\n",
    "# 计算二项分布的概率质量函数（PMF）\n",
    "k = 12  # 事件发生的次数\n",
    "pmf = binom.pmf(k, n, p)\n",
    "\n",
    "# 计算二项分布的累积分布函数（CDF）\n",
    "k = 5  # 事件发生的次数\n",
    "cdf = binom.cdf(k, n, p)\n",
    "\n",
    "f\"PMF:{pmf},cdf:{cdf}\""
   ],
   "id": "75ce24dc1dd7bd2",
   "outputs": [
    {
     "data": {
      "text/plain": [
       "'PMF:0.16118025779724124,cdf:0.003305375576019287'"
      ]
     },
     "execution_count": 7,
     "metadata": {},
     "output_type": "execute_result"
    }
   ],
   "execution_count": 7
  },
  {
   "metadata": {},
   "cell_type": "markdown",
   "source": [
    "这里是先算他的抽不到的概率。\n",
    "然后再反算他抽到的概率。"
   ],
   "id": "756394c28285e067"
  },
  {
   "metadata": {
    "ExecuteTime": {
     "end_time": "2024-04-28T13:26:13.863255Z",
     "start_time": "2024-04-28T13:26:13.850741Z"
    }
   },
   "cell_type": "code",
   "source": [
    "n = 100  # 试验次数\n",
    "p = 0.00720  # 事件发生的概率\n",
    "\n",
    "# 计算二项分布的概率质量函数（PMF）\n",
    "k = 1  # 事件发生的次数\n",
    "pmf = binom.pmf(k, n, p)\n",
    "\n",
    "# 计算二项分布的累积分布函数（CDF）\n",
    "k = 0 # 事件发生的次数\n",
    "cdf = binom.cdf(k, n, p)\n",
    "\n",
    "f\"PMF:{pmf},cdf:{1-cdf}\""
   ],
   "id": "227b2ae789003c16",
   "outputs": [
    {
     "data": {
      "text/plain": [
       "'PMF:0.35208504373177624,cdf:0.5145138452542948'"
      ]
     },
     "execution_count": 17,
     "metadata": {},
     "output_type": "execute_result"
    }
   ],
   "execution_count": 17
  },
  {
   "metadata": {},
   "cell_type": "raw",
   "source": [
    "抽牌10次，其中5是是1的概率。\n",
    "n=10为1的原因在于，其中包含了0次到10次，就包含全体了。"
   ],
   "id": "b174fec8f596f500"
  },
  {
   "metadata": {
    "ExecuteTime": {
     "end_time": "2024-04-28T13:38:52.545870Z",
     "start_time": "2024-04-28T13:38:52.538389Z"
    }
   },
   "cell_type": "code",
   "source": [
    "n = 10  # 试验次数\n",
    "p = 4/52  # 事件发生的概率\n",
    "\n",
    "# 计算二项分布的概率质量函数（PMF）\n",
    "k = 5  # 事件发生的次数\n",
    "pmf = binom.pmf(k, n, p)\n",
    "\n",
    "# 计算二项分布的累积分布函数（CDF）\n",
    "k = 10  # 事件发生的次数\n",
    "cdf = binom.cdf(k, n, p)\n",
    "\n",
    "f\"PMF:{pmf},cdf:{1-cdf}\""
   ],
   "id": "fcbf187661c0d74a",
   "outputs": [
    {
     "data": {
      "text/plain": [
       "'PMF:0.00045485528790408636,cdf:0.5508628928581367'"
      ]
     },
     "execution_count": 41,
     "metadata": {},
     "output_type": "execute_result"
    }
   ],
   "execution_count": 41
  }
 ],
 "metadata": {
  "kernelspec": {
   "display_name": "Python 3",
   "language": "python",
   "name": "python3"
  },
  "language_info": {
   "codemirror_mode": {
    "name": "ipython",
    "version": 2
   },
   "file_extension": ".py",
   "mimetype": "text/x-python",
   "name": "python",
   "nbconvert_exporter": "python",
   "pygments_lexer": "ipython2",
   "version": "2.7.6"
  }
 },
 "nbformat": 4,
 "nbformat_minor": 5
}
