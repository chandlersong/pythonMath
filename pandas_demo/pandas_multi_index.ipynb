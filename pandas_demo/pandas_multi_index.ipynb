{
 "cells": [
  {
   "cell_type": "markdown",
   "source": [
    "## how to create "
   ],
   "metadata": {
    "collapsed": false,
    "pycharm": {
     "name": "#%% md\n"
    }
   }
  },
  {
   "cell_type": "code",
   "execution_count": 12,
   "metadata": {
    "collapsed": true,
    "pycharm": {
     "is_executing": false
    }
   },
   "outputs": [
    {
     "data": {
      "text/plain": "               a         b         c\none x1  0.298178  0.824125  0.148262\n    x2  0.007086  0.408838  0.091298\n    x3  0.358687  0.311498  0.481169\ntwo x1  0.298178  0.824125  0.148262\n    x2  0.007086  0.408838  0.091298\n    x3  0.358687  0.311498  0.481169",
      "text/html": "<div>\n<style scoped>\n    .dataframe tbody tr th:only-of-type {\n        vertical-align: middle;\n    }\n\n    .dataframe tbody tr th {\n        vertical-align: top;\n    }\n\n    .dataframe thead th {\n        text-align: right;\n    }\n</style>\n<table border=\"1\" class=\"dataframe\">\n  <thead>\n    <tr style=\"text-align: right;\">\n      <th></th>\n      <th></th>\n      <th>a</th>\n      <th>b</th>\n      <th>c</th>\n    </tr>\n  </thead>\n  <tbody>\n    <tr>\n      <th rowspan=\"3\" valign=\"top\">one</th>\n      <th>x1</th>\n      <td>0.298178</td>\n      <td>0.824125</td>\n      <td>0.148262</td>\n    </tr>\n    <tr>\n      <th>x2</th>\n      <td>0.007086</td>\n      <td>0.408838</td>\n      <td>0.091298</td>\n    </tr>\n    <tr>\n      <th>x3</th>\n      <td>0.358687</td>\n      <td>0.311498</td>\n      <td>0.481169</td>\n    </tr>\n    <tr>\n      <th rowspan=\"3\" valign=\"top\">two</th>\n      <th>x1</th>\n      <td>0.298178</td>\n      <td>0.824125</td>\n      <td>0.148262</td>\n    </tr>\n    <tr>\n      <th>x2</th>\n      <td>0.007086</td>\n      <td>0.408838</td>\n      <td>0.091298</td>\n    </tr>\n    <tr>\n      <th>x3</th>\n      <td>0.358687</td>\n      <td>0.311498</td>\n      <td>0.481169</td>\n    </tr>\n  </tbody>\n</table>\n</div>"
     },
     "metadata": {},
     "output_type": "execute_result",
     "execution_count": 12
    }
   ],
   "source": [
    "import pandas as pd\n",
    "import numpy as np\n",
    "\n",
    "data = np.random.random((3,3))\n",
    "df1 = pd.DataFrame(data,columns=[\"a\",\"b\",\"c\"],index=[\"x1\",\"x2\",\"x3\"])\n",
    "df2 = pd.DataFrame(data,columns=[\"a\",\"b\",\"c\"],index=[\"x1\",\"x2\",\"x3\"])\n",
    "combine = pd.concat({\"one\": df1,\"two\":df2})\n",
    "combine"
   ]
  },
  {
   "cell_type": "markdown",
   "source": [
    "## how to handle"
   ],
   "metadata": {
    "collapsed": false
   }
  },
  {
   "cell_type": "code",
   "execution_count": 18,
   "outputs": [
    {
     "data": {
      "text/plain": "           a         b         c\nx1  0.298178  0.824125  0.148262\nx2  0.007086  0.408838  0.091298\nx3  0.358687  0.311498  0.481169",
      "text/html": "<div>\n<style scoped>\n    .dataframe tbody tr th:only-of-type {\n        vertical-align: middle;\n    }\n\n    .dataframe tbody tr th {\n        vertical-align: top;\n    }\n\n    .dataframe thead th {\n        text-align: right;\n    }\n</style>\n<table border=\"1\" class=\"dataframe\">\n  <thead>\n    <tr style=\"text-align: right;\">\n      <th></th>\n      <th>a</th>\n      <th>b</th>\n      <th>c</th>\n    </tr>\n  </thead>\n  <tbody>\n    <tr>\n      <th>x1</th>\n      <td>0.298178</td>\n      <td>0.824125</td>\n      <td>0.148262</td>\n    </tr>\n    <tr>\n      <th>x2</th>\n      <td>0.007086</td>\n      <td>0.408838</td>\n      <td>0.091298</td>\n    </tr>\n    <tr>\n      <th>x3</th>\n      <td>0.358687</td>\n      <td>0.311498</td>\n      <td>0.481169</td>\n    </tr>\n  </tbody>\n</table>\n</div>"
     },
     "metadata": {},
     "output_type": "execute_result",
     "execution_count": 18
    }
   ],
   "source": [
    "new_df1 = combine.loc[\"one\"]\n",
    "new_df1"
   ],
   "metadata": {
    "collapsed": false,
    "pycharm": {
     "name": "#%%\n",
     "is_executing": false
    }
   }
  },
  {
   "cell_type": "code",
   "execution_count": 33,
   "outputs": [
    {
     "data": {
      "text/plain": "array(['one', 'two'], dtype='<U3')"
     },
     "metadata": {},
     "output_type": "execute_result",
     "execution_count": 33
    }
   ],
   "source": [
    "index = combine.index\n",
    "x = np.array([col for (col,_) in combine.index ])\n",
    "np.unique(x)"
   ],
   "metadata": {
    "collapsed": false,
    "pycharm": {
     "name": "#%%\n",
     "is_executing": false
    }
   }
  }
 ],
 "metadata": {
  "kernelspec": {
   "display_name": "Python 3",
   "language": "python",
   "name": "python3"
  },
  "language_info": {
   "codemirror_mode": {
    "name": "ipython",
    "version": 2
   },
   "file_extension": ".py",
   "mimetype": "text/x-python",
   "name": "python",
   "nbconvert_exporter": "python",
   "pygments_lexer": "ipython2",
   "version": "2.7.6"
  },
  "pycharm": {
   "stem_cell": {
    "cell_type": "raw",
    "source": [],
    "metadata": {
     "collapsed": false
    }
   }
  }
 },
 "nbformat": 4,
 "nbformat_minor": 0
}