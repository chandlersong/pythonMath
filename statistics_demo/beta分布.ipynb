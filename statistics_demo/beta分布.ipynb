{
 "cells": [
  {
   "cell_type": "code",
   "id": "initial_id",
   "metadata": {
    "collapsed": true,
    "ExecuteTime": {
     "end_time": "2024-05-06T03:12:02.944568Z",
     "start_time": "2024-05-06T03:12:02.938513Z"
    }
   },
   "source": [
    "from scipy.stats import beta\n",
    "\n",
    "# 设置Beta分布的参数\n",
    "a = 2  # 形状参数alpha\n",
    "b = 5  # 形状参数beta\n",
    "\n",
    "# 计算概率密度函数（PDF）\n",
    "x = 0.6  # 指定的变量值\n",
    "pdf = beta.pdf(x, a, b)\n",
    "print(\"概率密度函数值:\", pdf)\n",
    "\n",
    "# 计算累积分布函数（CDF）\n",
    "x = 0.8  # 指定的变量值\n",
    "cdf = beta.cdf(x, a, b)\n",
    "print(\"累积分布函数值:\", cdf)\n",
    "\n",
    "# 生成随机变量\n",
    "random_var = beta.rvs(a, b, size=10)\n",
    "print(\"随机变量:\", random_var)"
   ],
   "outputs": [
    {
     "name": "stdout",
     "output_type": "stream",
     "text": [
      "概率密度函数值: 0.46079999999999993\n",
      "累积分布函数值: 0.9984\n",
      "随机变量: [0.33496199 0.27397162 0.18157972 0.57195932 0.10327414 0.08496746\n",
      " 0.34424124 0.36055508 0.21503497 0.201288  ]\n"
     ]
    }
   ],
   "execution_count": 27
  },
  {
   "metadata": {},
   "cell_type": "markdown",
   "source": "(1) 你想用分布来判断自己拥有的一枚硬币是否是一枚均匀的硬币，也就是说，这枚硬币出现正面和反面的机会一样。掷这枚硬币10次，出现正面4次，反面6次。利用分布，计算这枚硬币在60%以上的情况下出现正面的概率。",
   "id": "b425623db9f3c96e"
  },
  {
   "metadata": {
    "ExecuteTime": {
     "end_time": "2024-05-06T03:12:02.965834Z",
     "start_time": "2024-05-06T03:12:02.960752Z"
    }
   },
   "cell_type": "code",
   "source": [
    "a=4\n",
    "b=6\n",
    "p = 0.6\n",
    "cdf = (1-beta.cdf(p, a, b))*100\n",
    "f\"{cdf:.2f}%\""
   ],
   "id": "44f8bc3b8d21acee",
   "outputs": [
    {
     "data": {
      "text/plain": [
       "'9.94%'"
      ]
     },
     "execution_count": 28,
     "metadata": {},
     "output_type": "execute_result"
    }
   ],
   "execution_count": 28
  },
  {
   "metadata": {},
   "cell_type": "markdown",
   "source": "(2) 你继续掷这枚硬币10次，现在共出现正面9次，反面11次。根据我们对“均匀”一词的定义，在误差不超过5%的情况下，请问这枚硬币均匀的概率是多少？",
   "id": "d6dcf613b4b30f1d"
  },
  {
   "metadata": {
    "ExecuteTime": {
     "end_time": "2024-05-06T03:12:02.973369Z",
     "start_time": "2024-05-06T03:12:02.968080Z"
    }
   },
   "cell_type": "code",
   "source": [
    "a=9\n",
    "b=11\n",
    "p = 0.5\n",
    "pdf = beta.cdf(p, a, b)\n",
    "pdf"
   ],
   "id": "42ae074a2e11e01c",
   "outputs": [
    {
     "data": {
      "text/plain": [
       "0.6761970520019531"
      ]
     },
     "execution_count": 29,
     "metadata": {},
     "output_type": "execute_result"
    }
   ],
   "execution_count": 29
  },
  {
   "metadata": {},
   "cell_type": "markdown",
   "source": "(3) 用数据证明是让你对自己的论断更有信心的最佳方法。你继续抛掷这枚硬币200次，最终出现109次正面，111次反面。还是在误差不超过5%的情况下，请问这枚硬币均匀的概率是多少？",
   "id": "280251ace8b2e309"
  },
  {
   "metadata": {
    "ExecuteTime": {
     "end_time": "2024-05-06T03:12:02.995725Z",
     "start_time": "2024-05-06T03:12:02.986136Z"
    }
   },
   "cell_type": "code",
   "source": [
    "from scipy.integrate import quad\n",
    "from scipy.stats import beta\n",
    "\n",
    "# 定义被积函数\n",
    "def integrand(x):\n",
    "    return beta.pdf(x, 109, 111)\n",
    "\n",
    "# 设置积分区间\n",
    "a = 0.45\n",
    "b = 0.55\n",
    "\n",
    "# 进行数值积分\n",
    "result, error = quad(integrand, a, b)\n",
    "\n",
    "print(\"积分结果:\", result)\n",
    "print(\"误差估计:\", error)"
   ],
   "id": "e1b64d7d3d6dc6a7",
   "outputs": [
    {
     "name": "stdout",
     "output_type": "stream",
     "text": [
      "积分结果: 0.8589371426532751\n",
      "误差估计: 9.536117924794087e-15\n"
     ]
    }
   ],
   "execution_count": 30
  },
  {
   "metadata": {},
   "cell_type": "markdown",
   "source": "下面时求差值。来计算在45%～55%之间的概率。",
   "id": "48a0deeb539e6710"
  },
  {
   "metadata": {
    "ExecuteTime": {
     "end_time": "2024-05-06T03:27:37.363987Z",
     "start_time": "2024-05-06T03:27:37.357356Z"
    }
   },
   "cell_type": "code",
   "source": [
    "a=109\n",
    "b=111\n",
    "p = 0.5\n",
    "cdf = beta.cdf(0.55, a, b)-beta.cdf(0.45, a, b)\n",
    "f'{cdf*100:.2f}%'"
   ],
   "id": "136fbcfdb3961f84",
   "outputs": [
    {
     "data": {
      "text/plain": [
       "'85.89%'"
      ]
     },
     "execution_count": 40,
     "metadata": {},
     "output_type": "execute_result"
    }
   ],
   "execution_count": 40
  }
 ],
 "metadata": {
  "kernelspec": {
   "display_name": "Python 3",
   "language": "python",
   "name": "python3"
  },
  "language_info": {
   "codemirror_mode": {
    "name": "ipython",
    "version": 2
   },
   "file_extension": ".py",
   "mimetype": "text/x-python",
   "name": "python",
   "nbconvert_exporter": "python",
   "pygments_lexer": "ipython2",
   "version": "2.7.6"
  }
 },
 "nbformat": 4,
 "nbformat_minor": 5
}
